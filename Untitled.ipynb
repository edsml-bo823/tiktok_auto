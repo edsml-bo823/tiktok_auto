{
 "cells": [
  {
   "cell_type": "code",
   "execution_count": null,
   "id": "93328b64",
   "metadata": {},
   "outputs": [],
   "source": [
    "import telebot\n",
    "import subprocess\n",
    "\n",
    "# ✅ Replace with your Telegram Bot API Token\n",
    "TELEGRAM_BOT_TOKEN = \"YOUR_BOT_TOKEN_HERE\"\n",
    "\n",
    "# ✅ Initialize Telegram bot\n",
    "bot = telebot.TeleBot(TELEGRAM_BOT_TOKEN)\n",
    "\n",
    "# ✅ Define what happens when a user sends a message\n",
    "@bot.message_handler(func=lambda message: True)\n",
    "def handle_message(message):\n",
    "    chat_id = message.chat.id\n",
    "    text = message.text.strip()\n",
    "\n",
    "    # ✅ Check if the message is a YouTube link\n",
    "    if \"youtube.com/watch?\" in text or \"youtu.be/\" in text:\n",
    "        bot.send_message(chat_id, f\"Processing YouTube video: {text} 🎬\")\n",
    "\n",
    "        # ✅ Run TikTok upload command in the background\n",
    "        command = f'python cli.py upload --user jeffhardy619.0 -yt \"{text}\" -t \"Auto-generated upload\"'\n",
    "        subprocess.Popen(command, shell=True)\n",
    "\n",
    "        bot.send_message(chat_id, \"Upload started! 🚀\")\n",
    "\n",
    "    else:\n",
    "        bot.send_message(chat_id, \"Please send a valid YouTube link. 🎥\")\n",
    "\n",
    "# ✅ Start the bot\n",
    "print(\"Bot is running...\")\n",
    "bot.polling()\n"
   ]
  }
 ],
 "metadata": {
  "kernelspec": {
   "display_name": "Python 3 (ipykernel)",
   "language": "python",
   "name": "python3"
  },
  "language_info": {
   "codemirror_mode": {
    "name": "ipython",
    "version": 3
   },
   "file_extension": ".py",
   "mimetype": "text/x-python",
   "name": "python",
   "nbconvert_exporter": "python",
   "pygments_lexer": "ipython3",
   "version": "3.11.5"
  }
 },
 "nbformat": 4,
 "nbformat_minor": 5
}
